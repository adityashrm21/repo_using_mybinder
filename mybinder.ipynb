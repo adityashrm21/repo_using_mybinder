{
 "cells": [
  {
   "cell_type": "markdown",
   "metadata": {},
   "source": [
    "This is a Python notebook for lab2 in DSCI_521."
   ]
  },
  {
   "cell_type": "code",
   "execution_count": 4,
   "metadata": {},
   "outputs": [
    {
     "name": "stdout",
     "output_type": "stream",
     "text": [
      "Let's see how we add two numbers in Python:\n",
      "The value of x is:  12\n",
      "The value of y is:  2.3\n",
      "The sum is:  14.3\n"
     ]
    }
   ],
   "source": [
    "print('Let\\'s see how we add two numbers in Python:')\n",
    "\n",
    "x = 12\n",
    "y = 2.3\n",
    "print('The value of x is: ', x)\n",
    "print('The value of y is: ', y)\n",
    "\n",
    "z = x + y\n",
    "print('The sum is: ', z)"
   ]
  },
  {
   "cell_type": "code",
   "execution_count": 5,
   "metadata": {},
   "outputs": [
    {
     "name": "stdout",
     "output_type": "stream",
     "text": [
      "Now let's see how we get the remainder when dividing a number with the another:\n",
      "The value of x is:  12\n",
      "The value of y is:  5\n",
      "The remainder is:  2\n"
     ]
    }
   ],
   "source": [
    "print('Now let\\'s see how we get the remainder when dividing a number with the another:')\n",
    "\n",
    "x = 12\n",
    "y = 5\n",
    "print('The value of x is: ', x)\n",
    "print('The value of y is: ', y)\n",
    "\n",
    "z = x % y\n",
    "print('The remainder is: ', z)"
   ]
  },
  {
   "cell_type": "markdown",
   "metadata": {},
   "source": [
    "This is a notebook which will use mybinder to be used as an interactive notebook after that."
   ]
  },
  {
   "cell_type": "code",
   "execution_count": null,
   "metadata": {},
   "outputs": [],
   "source": []
  }
 ],
 "metadata": {
  "kernelspec": {
   "display_name": "Python 3",
   "language": "python",
   "name": "python3"
  },
  "language_info": {
   "codemirror_mode": {
    "name": "ipython",
    "version": 3
   },
   "file_extension": ".py",
   "mimetype": "text/x-python",
   "name": "python",
   "nbconvert_exporter": "python",
   "pygments_lexer": "ipython3",
   "version": "3.6.5"
  }
 },
 "nbformat": 4,
 "nbformat_minor": 2
}
